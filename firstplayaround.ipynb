{
  "cells": [
    {
      "cell_type": "markdown",
      "metadata": {
        "id": "view-in-github",
        "colab_type": "text"
      },
      "source": [
        "<a href=\"https://colab.research.google.com/github/oluwatimmyOrigin/collab-ML-playground/blob/main/firstplayaround.ipynb\" target=\"_parent\"><img src=\"https://colab.research.google.com/assets/colab-badge.svg\" alt=\"Open In Colab\"/></a>"
      ]
    },
    {
      "cell_type": "code",
      "execution_count": null,
      "metadata": {
        "colab": {
          "base_uri": "https://localhost:8080/"
        },
        "id": "h0MS1_CcbuCv",
        "outputId": "497e382e-c877-4bcb-dc2d-9a768ec4b4b7"
      },
      "outputs": [
        {
          "name": "stdout",
          "output_type": "stream",
          "text": [
            "let'sfeckinggo\n"
          ]
        }
      ],
      "source": [
        "print ('let\\'s' + 'fecking' + 'go')"
      ]
    },
    {
      "cell_type": "code",
      "execution_count": null,
      "metadata": {
        "colab": {
          "base_uri": "https://localhost:8080/"
        },
        "id": "CfCzeuOFdqtf",
        "outputId": "6af40864-96d9-4e33-9e1e-1626ef4f9c43"
      },
      "outputs": [
        {
          "name": "stdout",
          "output_type": "stream",
          "text": [
            "good morning miles\n",
            "hello miles you are +2 today\n",
            "hello miles\n"
          ]
        }
      ],
      "source": [
        "first_name=\"miles\"\n",
        "print('good morning {}' .format(first_name))\n",
        "print(\"hello {} you are +{} today\" .format(first_name,2))\n",
        "print(\"hello \" +first_name)"
      ]
    },
    {
      "cell_type": "code",
      "execution_count": null,
      "metadata": {
        "colab": {
          "base_uri": "https://localhost:8080/"
        },
        "id": "LI9qUoAxhDPq",
        "outputId": "9d2a89b5-6465-4538-bfa9-17b21cb7971d"
      },
      "outputs": [
        {
          "name": "stdout",
          "output_type": "stream",
          "text": [
            "hello miles\n"
          ]
        }
      ],
      "source": [
        "print(f\"hello {first_name}\")"
      ]
    },
    {
      "cell_type": "code",
      "execution_count": null,
      "metadata": {
        "colab": {
          "base_uri": "https://localhost:8080/"
        },
        "id": "DnmxbxxzAMqF",
        "outputId": "9fd7d648-e0e8-4ada-b2b8-79fa42410443"
      },
      "outputs": [
        {
          "name": "stdout",
          "output_type": "stream",
          "text": [
            "no\n"
          ]
        }
      ],
      "source": [
        "x = 7\n",
        "y =10\n",
        "\n",
        "if x+y == 16:\n",
        "    print('yes')\n",
        "elif"
      ]
    },
    {
      "cell_type": "code",
      "execution_count": null,
      "metadata": {
        "colab": {
          "base_uri": "https://localhost:8080/"
        },
        "id": "zr_Pxd296GiD",
        "outputId": "25c7b882-bb1d-4eab-fd41-1614a603a964"
      },
      "outputs": [
        {
          "name": "stdout",
          "output_type": "stream",
          "text": [
            "maybe\n"
          ]
        }
      ],
      "source": [
        "x=55\n",
        "y=55\n",
        "\n",
        "if x>y:\n",
        "  print(f'yes {x} is greater than {y}')\n",
        "elif x<y:\n",
        "  print('no')\n",
        "else:\n",
        "  print('maybe')"
      ]
    },
    {
      "cell_type": "code",
      "execution_count": null,
      "metadata": {
        "colab": {
          "base_uri": "https://localhost:8080/"
        },
        "id": "MDdaAx6Q6Nwh",
        "outputId": "e2d78723-b988-4353-bb61-6ad7df8f2b95"
      },
      "outputs": [
        {
          "name": "stdout",
          "output_type": "stream",
          "text": [
            "12 is the smallest of the ages\n",
            "44 is the biggest of the ages\n",
            "19.5 is the average of the ages\n"
          ]
        }
      ],
      "source": [
        "Age=[12,15,17,44,13,16]\n",
        "\n",
        "print(f'{(min(Age))} is the smallest of the ages')\n",
        "print(f'{(max(Age))} is the biggest of the ages')\n",
        "print(f'{(sum(Age)/len(Age))} is the average of the ages')"
      ]
    },
    {
      "cell_type": "code",
      "execution_count": null,
      "metadata": {
        "colab": {
          "base_uri": "https://localhost:8080/",
          "height": 182
        },
        "id": "JIkpJPZJH_dL",
        "outputId": "95756e1a-2b7b-4955-cc6e-8c1aa124687e"
      },
      "outputs": [
        {
          "ename": "TypeError",
          "evalue": "'list' object is not callable",
          "output_type": "error",
          "traceback": [
            "\u001b[0;31m---------------------------------------------------------------------------\u001b[0m",
            "\u001b[0;31mTypeError\u001b[0m                                 Traceback (most recent call last)",
            "\u001b[0;32m<ipython-input-23-5bf96105085d>\u001b[0m in \u001b[0;36m<cell line: 0>\u001b[0;34m()\u001b[0m\n\u001b[1;32m      1\u001b[0m \u001b[0mname\u001b[0m\u001b[0;34m=\u001b[0m\u001b[0;34m'badassmofecker'\u001b[0m\u001b[0;34m\u001b[0m\u001b[0;34m\u001b[0m\u001b[0m\n\u001b[0;32m----> 2\u001b[0;31m \u001b[0mchars\u001b[0m \u001b[0;34m=\u001b[0m \u001b[0mlist\u001b[0m\u001b[0;34m(\u001b[0m\u001b[0mname\u001b[0m\u001b[0;34m)\u001b[0m\u001b[0;34m\u001b[0m\u001b[0;34m\u001b[0m\u001b[0m\n\u001b[0m\u001b[1;32m      3\u001b[0m \u001b[0mprint\u001b[0m\u001b[0;34m(\u001b[0m\u001b[0mchars\u001b[0m\u001b[0;34m[\u001b[0m\u001b[0;36m4\u001b[0m\u001b[0;34m]\u001b[0m\u001b[0;34m)\u001b[0m\u001b[0;34m\u001b[0m\u001b[0;34m\u001b[0m\u001b[0m\n",
            "\u001b[0;31mTypeError\u001b[0m: 'list' object is not callable"
          ]
        }
      ],
      "source": [
        "name='badassmofecker'\n",
        "chars = list(name)\n",
        "print(chars[4])"
      ]
    },
    {
      "cell_type": "code",
      "execution_count": null,
      "metadata": {
        "colab": {
          "base_uri": "https://localhost:8080/"
        },
        "id": "sT570Oe4LK6d",
        "outputId": "3f5b1080-e5e4-43a6-a978-f3212614fab5"
      },
      "outputs": [
        {
          "name": "stdout",
          "output_type": "stream",
          "text": [
            "b\n"
          ]
        }
      ],
      "source": [
        "name='badassmofecker'\n",
        "# Reset the 'list' variable to the built-in function.\n",
        "list = __builtins__.list\n",
        "# or simply rename the variable to something other than 'list' for instance 'my_list'\n",
        "chars = list(name)\n",
        "print(chars[0])"
      ]
    },
    {
      "cell_type": "code",
      "execution_count": null,
      "metadata": {
        "colab": {
          "base_uri": "https://localhost:8080/"
        },
        "id": "cDGQ25l3LnMS",
        "outputId": "5b65c998-a3ef-4211-a989-68b9b4ee91e8"
      },
      "outputs": [
        {
          "name": "stdout",
          "output_type": "stream",
          "text": [
            "U\n"
          ]
        }
      ],
      "source": [
        "school='OAU'\n",
        "list1=list(school)\n",
        "print(list1[2])"
      ]
    },
    {
      "cell_type": "code",
      "execution_count": null,
      "metadata": {
        "colab": {
          "base_uri": "https://localhost:8080/"
        },
        "id": "3opFcBM3Nkr2",
        "outputId": "3927413c-8d78-441d-a7d1-92398e527024"
      },
      "outputs": [
        {
          "name": "stdout",
          "output_type": "stream",
          "text": [
            "{'blue', 'red', 'green'}\n"
          ]
        }
      ],
      "source": [
        "colors_set={'red','blue','green','red'}\n",
        "print(colors_set)"
      ]
    },
    {
      "cell_type": "code",
      "execution_count": null,
      "metadata": {
        "colab": {
          "base_uri": "https://localhost:8080/"
        },
        "id": "cYqfvAc9N1yD",
        "outputId": "eb659dcc-bf1d-4452-ff54-8fc34d5623db"
      },
      "outputs": [
        {
          "data": {
            "text/plain": [
              "3"
            ]
          },
          "execution_count": 28,
          "metadata": {},
          "output_type": "execute_result"
        }
      ],
      "source": [
        "len(colors_set)"
      ]
    },
    {
      "cell_type": "code",
      "execution_count": null,
      "metadata": {
        "colab": {
          "base_uri": "https://localhost:8080/"
        },
        "id": "kaXCDT7eOKVa",
        "outputId": "3dd6b15f-7976-430c-b6a7-3af4176b5a96"
      },
      "outputs": [
        {
          "data": {
            "text/plain": [
              "False"
            ]
          },
          "execution_count": 31,
          "metadata": {},
          "output_type": "execute_result"
        }
      ],
      "source": [
        "colors_set1={'red','blue','green'}\n",
        "colors_set2={'red','blue','green','yellow'}\n",
        "colors_set1.issuperset(colors_set2)"
      ]
    },
    {
      "cell_type": "code",
      "execution_count": null,
      "metadata": {
        "colab": {
          "base_uri": "https://localhost:8080/"
        },
        "id": "H3R5hQ7AWb95",
        "outputId": "17f216a9-bbcc-4603-e95a-cec34d8c4556"
      },
      "outputs": [
        {
          "name": "stdout",
          "output_type": "stream",
          "text": [
            "{'blue', 'red', 'green', 'yellow'}\n"
          ]
        }
      ],
      "source": [
        "print(colors_set1.union(colors_set2))"
      ]
    },
    {
      "cell_type": "code",
      "execution_count": null,
      "metadata": {
        "colab": {
          "base_uri": "https://localhost:8080/"
        },
        "id": "2F62_rjQXUWy",
        "outputId": "10337c4a-9a8b-4b6a-d142-629f3a53aa94"
      },
      "outputs": [
        {
          "name": "stdout",
          "output_type": "stream",
          "text": [
            "{'yellow'}\n"
          ]
        }
      ],
      "source": [
        "print(colors_set1.symmetric_difference(colors_set2))"
      ]
    },
    {
      "cell_type": "code",
      "execution_count": null,
      "metadata": {
        "colab": {
          "base_uri": "https://localhost:8080/"
        },
        "id": "6KgDuH8LXd54",
        "outputId": "1eba16f5-8608-44cb-e811-c9ffa3cd51db"
      },
      "outputs": [
        {
          "name": "stdout",
          "output_type": "stream",
          "text": [
            "{'yellow'}\n"
          ]
        }
      ],
      "source": [
        "print(colors_set2.difference(colors_set1))"
      ]
    },
    {
      "cell_type": "code",
      "execution_count": null,
      "metadata": {
        "colab": {
          "base_uri": "https://localhost:8080/"
        },
        "id": "I9-O48xVXqF8",
        "outputId": "5b3dc460-482d-4a92-b01f-aea9f71d5fbd"
      },
      "outputs": [
        {
          "name": "stdout",
          "output_type": "stream",
          "text": [
            "{'blue', 'red', 'green', 'yellow'} is the union of the sets\n"
          ]
        }
      ],
      "source": [
        "print(f'{(colors_set1 | colors_set2)} is the union of the sets')"
      ]
    },
    {
      "cell_type": "code",
      "execution_count": null,
      "metadata": {
        "colab": {
          "base_uri": "https://localhost:8080/"
        },
        "id": "Z78cThHRX1Uv",
        "outputId": "d382a398-7f98-4e10-edbb-b61ce75d8f50"
      },
      "outputs": [
        {
          "name": "stdout",
          "output_type": "stream",
          "text": [
            "hello\n"
          ]
        }
      ],
      "source": [
        "def hello():\n",
        "    print('hello')\n",
        "hello()"
      ]
    },
    {
      "cell_type": "code",
      "execution_count": null,
      "metadata": {
        "colab": {
          "base_uri": "https://localhost:8080/",
          "height": 109
        },
        "id": "CHSziIp1zZ19",
        "outputId": "727983e1-3093-47a5-93ed-4e36f37c317c"
      },
      "outputs": [
        {
          "ename": "SyntaxError",
          "evalue": "expected ':' (<ipython-input-2-b3191dcdf827>, line 5)",
          "output_type": "error",
          "traceback": [
            "\u001b[0;36m  File \u001b[0;32m\"<ipython-input-2-b3191dcdf827>\"\u001b[0;36m, line \u001b[0;32m5\u001b[0m\n\u001b[0;31m    def hello(name)\u001b[0m\n\u001b[0m                   ^\u001b[0m\n\u001b[0;31mSyntaxError\u001b[0m\u001b[0;31m:\u001b[0m expected ':'\n"
          ]
        }
      ],
      "source": [
        "def hello(name):\n",
        "    print(f'hello {name}')\n",
        "hello('miles')\n",
        "\n"
      ]
    },
    {
      "cell_type": "code",
      "execution_count": null,
      "metadata": {
        "colab": {
          "base_uri": "https://localhost:8080/"
        },
        "id": "uF8J-yI3z-H4",
        "outputId": "b8c1830d-f849-4613-d59f-d60498472566"
      },
      "outputs": [
        {
          "name": "stdout",
          "output_type": "stream",
          "text": [
            "Hello miles\n",
            "how are you doing's today?\n",
            "\n",
            "Hello miles\n",
            "how are you doing's today?\n",
            "\n",
            "Hello miles\n",
            "how are you doing's today?\n",
            "\n",
            "Hello miles\n",
            "how are you doing's today?\n",
            "\n",
            "Hello miles\n",
            "how are you doing's today?\n",
            "\n",
            "Hello miles\n",
            "how are you doing's today?\n",
            "\n"
          ]
        }
      ],
      "source": [
        "def hello(name):\n",
        "    print('Hello', name)\n",
        "    print(\"how are you doing\\'s today?\\n\")\n",
        "\n",
        "hello('miles')\n",
        "\n",
        "for i in range(5):\n",
        "  hello('miles')"
      ]
    },
    {
      "cell_type": "code",
      "execution_count": null,
      "metadata": {
        "colab": {
          "base_uri": "https://localhost:8080/"
        },
        "id": "XTs6ERBq2yKj",
        "outputId": "74abfa8b-cc0a-4fb1-d638-3e6a9c424a26"
      },
      "outputs": [
        {
          "name": "stdout",
          "output_type": "stream",
          "text": [
            "hello😁, i am miles, and i am a student.\n",
            "\n",
            "hello😁, i am Tolu, and i am a teacher.\n",
            "\n",
            "hello😁, i am John, and i am a driver.\n",
            "\n"
          ]
        }
      ],
      "source": [
        "def func(name,job):\n",
        "  print(f'hello😁, i am {name}, and i am a {job}.\\n')\n",
        "func('miles','student')\n",
        "func('Tolu','teacher')\n",
        "func('John','driver')"
      ]
    },
    {
      "cell_type": "code",
      "execution_count": null,
      "metadata": {
        "colab": {
          "base_uri": "https://localhost:8080/"
        },
        "id": "2lKyBp4s5OPz",
        "outputId": "13ab976b-bf8f-459b-a201-cfae17d01272"
      },
      "outputs": [
        {
          "name": "stdout",
          "output_type": "stream",
          "text": [
            "hello😁, i am miles, and i am a student.\n",
            "\n",
            "hello😁, i am teacher, and i am a Tolu.\n",
            "\n"
          ]
        }
      ],
      "source": [
        "def funct(name,job='student'):\n",
        "  print(f'hello😁, i am {name}, and i am a {job}.\\n')\n",
        "funct('miles')\n",
        "funct(job='Tolu',name='teacher')"
      ]
    },
    {
      "cell_type": "code",
      "execution_count": null,
      "metadata": {
        "colab": {
          "base_uri": "https://localhost:8080/"
        },
        "id": "J1NURmI96qoK",
        "outputId": "89fca8ab-6ec0-43b0-8b73-33221b3f10f1"
      },
      "outputs": [
        {
          "name": "stdout",
          "output_type": "stream",
          "text": [
            "(12, 15, 17, 44, 13, 16)\n"
          ]
        }
      ],
      "source": [
        "def print_argument(*args):\n",
        "  print(args)\n",
        "print_argument(12,15,17,44,13,16)"
      ]
    },
    {
      "cell_type": "code",
      "execution_count": null,
      "metadata": {
        "id": "QRCpudJf76EC"
      },
      "outputs": [],
      "source": [
        "def user_info(**kwargs):\n",
        "  for key, value in kwargs.items():\n",
        "    print(f\"{key}: {value}\")\n",
        "\n",
        "name = input(\"Enter your name: \")\n",
        "dob = input(\"Enter your date of birth: \")\n",
        "age = input(\"Enter your age: \")\n",
        "place_of_work = input(\"Enter your place of work: \")\n",
        "\n",
        "user_info(name=name, date_of_birth=dob, age=age, place_of_work=place_of_work)"
      ]
    },
    {
      "cell_type": "code",
      "execution_count": null,
      "metadata": {
        "colab": {
          "base_uri": "https://localhost:8080/"
        },
        "id": "lHeJHtaA9OAL",
        "outputId": "52abc05d-4b29-48ec-aaed-7660f38859c7"
      },
      "outputs": [
        {
          "name": "stdout",
          "output_type": "stream",
          "text": [
            "the sum of 1 and 2 is 3\n",
            "\n",
            "the difference of 1 and 2 is -1\n",
            "\n",
            "the product of 1 and 2 is 2\n",
            "\n",
            "the quotient of 1 and 2 is 0.5\n",
            "\n",
            "\n",
            "\n",
            "\n",
            "the sum of 2 and 1 is 3\n",
            "\n",
            "the difference of 2 and 1 is 1\n",
            "\n",
            "the product of 2 and 1 is 2\n",
            "\n",
            "the quotient of 2 and 1 is 2.0\n",
            "\n",
            "\n",
            "\n",
            "\n",
            "the sum of 2 and 2 is 4\n",
            "\n",
            "the difference of 2 and 2 is 0\n",
            "\n",
            "the product of 2 and 2 is 4\n",
            "\n",
            "the quotient of 2 and 2 is 1.0\n",
            "\n",
            "\n",
            "\n",
            "\n"
          ]
        }
      ],
      "source": [
        "def opps(a,b):\n",
        "  print(f'the sum of {a} and {b} is {a+b}\\n')\n",
        "  print(f'the difference of {a} and {b} is {a-b}\\n')\n",
        "  print(f'the product of {a} and {b} is {a*b}\\n')\n",
        "  print(f'the quotient of {a} and {b} is {a/b}\\n\\n\\n\\n')\n",
        "opps(1,2)\n",
        "opps(2,1)\n",
        "opps(2,2)"
      ]
    },
    {
      "cell_type": "code",
      "execution_count": null,
      "metadata": {
        "colab": {
          "base_uri": "https://localhost:8080/"
        },
        "id": "ztY5xjTi9h9d",
        "outputId": "c014ee52-03a2-45c9-dd34-f52a5f2d01f5"
      },
      "outputs": [
        {
          "name": "stdout",
          "output_type": "stream",
          "text": [
            "3\n"
          ]
        }
      ],
      "source": [
        "def sum(a,b):\n",
        "  return a+b\n",
        "x=(sum(1,2))\n",
        "print(x)"
      ]
    },
    {
      "cell_type": "code",
      "execution_count": null,
      "metadata": {
        "colab": {
          "base_uri": "https://localhost:8080/"
        },
        "id": "i3_SeQsW_l7n",
        "outputId": "657dd505-cf04-453b-cb1c-41d16035b5c2"
      },
      "outputs": [
        {
          "name": "stdout",
          "output_type": "stream",
          "text": [
            "Help on function hello in module __main__:\n",
            "\n",
            "hello(name)\n",
            "\n"
          ]
        }
      ],
      "source": [
        "help(hello)"
      ]
    },
    {
      "cell_type": "code",
      "execution_count": null,
      "metadata": {
        "colab": {
          "base_uri": "https://localhost:8080/"
        },
        "id": "F60nCkS2LKBI",
        "outputId": "b1888f21-88ef-4eeb-ee95-39b480f8e9dc"
      },
      "outputs": [
        {
          "name": "stdout",
          "output_type": "stream",
          "text": [
            "256.0\n"
          ]
        }
      ],
      "source": [
        "import math\n",
        "print(math.pow(4,4))"
      ]
    },
    {
      "cell_type": "code",
      "execution_count": null,
      "metadata": {
        "colab": {
          "base_uri": "https://localhost:8080/"
        },
        "id": "-bTcGLbov6j5",
        "outputId": "e2a1831c-7b72-46de-9915-f71682d93c95"
      },
      "outputs": [
        {
          "name": "stdout",
          "output_type": "stream",
          "text": [
            "Requirement already satisfied: pandas in /usr/local/lib/python3.11/dist-packages (2.2.2)\n",
            "Requirement already satisfied: numpy>=1.23.2 in /usr/local/lib/python3.11/dist-packages (from pandas) (2.0.2)\n",
            "Requirement already satisfied: python-dateutil>=2.8.2 in /usr/local/lib/python3.11/dist-packages (from pandas) (2.9.0.post0)\n",
            "Requirement already satisfied: pytz>=2020.1 in /usr/local/lib/python3.11/dist-packages (from pandas) (2025.2)\n",
            "Requirement already satisfied: tzdata>=2022.7 in /usr/local/lib/python3.11/dist-packages (from pandas) (2025.2)\n",
            "Requirement already satisfied: six>=1.5 in /usr/local/lib/python3.11/dist-packages (from python-dateutil>=2.8.2->pandas) (1.17.0)\n"
          ]
        }
      ],
      "source": [
        "pip install pandas\n"
      ]
    },
    {
      "cell_type": "code",
      "execution_count": null,
      "metadata": {
        "colab": {
          "base_uri": "https://localhost:8080/",
          "height": 591
        },
        "id": "IzeUTypHwKoN",
        "outputId": "199a11d6-bf5c-4e63-ef4d-b8bd10c655a9"
      },
      "outputs": [
        {
          "data": {
            "application/vnd.google.colaboratory.intrinsic+json": {
              "summary": "{\n  \"name\": \"df\",\n  \"rows\": 10,\n  \"fields\": [\n    {\n      \"column\": \"First Name\",\n      \"properties\": {\n        \"dtype\": \"category\",\n        \"num_unique_values\": 3,\n        \"samples\": [\n          \"Charlie\",\n          \"Eve\",\n          \"Alice\"\n        ],\n        \"semantic_type\": \"\",\n        \"description\": \"\"\n      }\n    },\n    {\n      \"column\": \"Last Name\",\n      \"properties\": {\n        \"dtype\": \"string\",\n        \"num_unique_values\": 5,\n        \"samples\": [\n          \"Davis\",\n          \"Williams\",\n          \"Smith\"\n        ],\n        \"semantic_type\": \"\",\n        \"description\": \"\"\n      }\n    },\n    {\n      \"column\": \"Birth Date\",\n      \"properties\": {\n        \"dtype\": \"object\",\n        \"num_unique_values\": 10,\n        \"samples\": [\n          \"22/7/2024\",\n          \"25/2/2024\",\n          \"25/12/2024\"\n        ],\n        \"semantic_type\": \"\",\n        \"description\": \"\"\n      }\n    },\n    {\n      \"column\": \"Birth Time\",\n      \"properties\": {\n        \"dtype\": \"string\",\n        \"num_unique_values\": 10,\n        \"samples\": [\n          \"23:13\",\n          \"12:18\",\n          \"21:30\"\n        ],\n        \"semantic_type\": \"\",\n        \"description\": \"\"\n      }\n    },\n    {\n      \"column\": \"Birth Weight (kg)\",\n      \"properties\": {\n        \"dtype\": \"number\",\n        \"std\": 0.38355066303046736,\n        \"min\": 2.8,\n        \"max\": 3.8,\n        \"num_unique_values\": 7,\n        \"samples\": [\n          3.3,\n          3.2,\n          3.8\n        ],\n        \"semantic_type\": \"\",\n        \"description\": \"\"\n      }\n    },\n    {\n      \"column\": \"Birth Length (cm)\",\n      \"properties\": {\n        \"dtype\": \"number\",\n        \"std\": 2,\n        \"min\": 45,\n        \"max\": 54,\n        \"num_unique_values\": 7,\n        \"samples\": [\n          47,\n          50,\n          45\n        ],\n        \"semantic_type\": \"\",\n        \"description\": \"\"\n      }\n    },\n    {\n      \"column\": \"Hospital\",\n      \"properties\": {\n        \"dtype\": \"category\",\n        \"num_unique_values\": 3,\n        \"samples\": [\n          \"County Hospital\",\n          \"General Hospital\",\n          \"City Hospital\"\n        ],\n        \"semantic_type\": \"\",\n        \"description\": \"\"\n      }\n    },\n    {\n      \"column\": \"Gender\",\n      \"properties\": {\n        \"dtype\": \"category\",\n        \"num_unique_values\": 2,\n        \"samples\": [\n          \"Male\",\n          \"Female\"\n        ],\n        \"semantic_type\": \"\",\n        \"description\": \"\"\n      }\n    },\n    {\n      \"column\": \"Mother's Age\",\n      \"properties\": {\n        \"dtype\": \"number\",\n        \"std\": 10,\n        \"min\": 18,\n        \"max\": 45,\n        \"num_unique_values\": 9,\n        \"samples\": [\n          21,\n          20\n        ],\n        \"semantic_type\": \"\",\n        \"description\": \"\"\n      }\n    }\n  ]\n}",
              "type": "dataframe",
              "variable_name": "df"
            },
            "text/html": [
              "\n",
              "  <div id=\"df-5f1b90c1-7174-4640-9b7b-d6d6a3fec2db\" class=\"colab-df-container\">\n",
              "    <div>\n",
              "<style scoped>\n",
              "    .dataframe tbody tr th:only-of-type {\n",
              "        vertical-align: middle;\n",
              "    }\n",
              "\n",
              "    .dataframe tbody tr th {\n",
              "        vertical-align: top;\n",
              "    }\n",
              "\n",
              "    .dataframe thead th {\n",
              "        text-align: right;\n",
              "    }\n",
              "</style>\n",
              "<table border=\"1\" class=\"dataframe\">\n",
              "  <thead>\n",
              "    <tr style=\"text-align: right;\">\n",
              "      <th></th>\n",
              "      <th>First Name</th>\n",
              "      <th>Last Name</th>\n",
              "      <th>Birth Date</th>\n",
              "      <th>Birth Time</th>\n",
              "      <th>Birth Weight (kg)</th>\n",
              "      <th>Birth Length (cm)</th>\n",
              "      <th>Hospital</th>\n",
              "      <th>Gender</th>\n",
              "      <th>Mother's Age</th>\n",
              "    </tr>\n",
              "  </thead>\n",
              "  <tbody>\n",
              "    <tr>\n",
              "      <th>0</th>\n",
              "      <td>Charlie</td>\n",
              "      <td>Brown</td>\n",
              "      <td>22/2/2024</td>\n",
              "      <td>12:54</td>\n",
              "      <td>3.3</td>\n",
              "      <td>47</td>\n",
              "      <td>County Hospital</td>\n",
              "      <td>Female</td>\n",
              "      <td>45</td>\n",
              "    </tr>\n",
              "    <tr>\n",
              "      <th>1</th>\n",
              "      <td>Eve</td>\n",
              "      <td>Davis</td>\n",
              "      <td>25/2/2024</td>\n",
              "      <td>12:18</td>\n",
              "      <td>3.2</td>\n",
              "      <td>50</td>\n",
              "      <td>County Hospital</td>\n",
              "      <td>Male</td>\n",
              "      <td>20</td>\n",
              "    </tr>\n",
              "    <tr>\n",
              "      <th>2</th>\n",
              "      <td>Eve</td>\n",
              "      <td>Smith</td>\n",
              "      <td>27/5/2024</td>\n",
              "      <td>9:9</td>\n",
              "      <td>3.5</td>\n",
              "      <td>54</td>\n",
              "      <td>General Hospital</td>\n",
              "      <td>Female</td>\n",
              "      <td>18</td>\n",
              "    </tr>\n",
              "    <tr>\n",
              "      <th>3</th>\n",
              "      <td>Alice</td>\n",
              "      <td>Brown</td>\n",
              "      <td>18/9/2024</td>\n",
              "      <td>19:57</td>\n",
              "      <td>3.5</td>\n",
              "      <td>52</td>\n",
              "      <td>City Hospital</td>\n",
              "      <td>Female</td>\n",
              "      <td>45</td>\n",
              "    </tr>\n",
              "    <tr>\n",
              "      <th>4</th>\n",
              "      <td>Charlie</td>\n",
              "      <td>Smith</td>\n",
              "      <td>2/7/2024</td>\n",
              "      <td>1:31</td>\n",
              "      <td>3.0</td>\n",
              "      <td>52</td>\n",
              "      <td>County Hospital</td>\n",
              "      <td>Female</td>\n",
              "      <td>36</td>\n",
              "    </tr>\n",
              "    <tr>\n",
              "      <th>5</th>\n",
              "      <td>Alice</td>\n",
              "      <td>Jones</td>\n",
              "      <td>25/12/2024</td>\n",
              "      <td>21:30</td>\n",
              "      <td>2.8</td>\n",
              "      <td>52</td>\n",
              "      <td>County Hospital</td>\n",
              "      <td>Female</td>\n",
              "      <td>30</td>\n",
              "    </tr>\n",
              "    <tr>\n",
              "      <th>6</th>\n",
              "      <td>Charlie</td>\n",
              "      <td>Smith</td>\n",
              "      <td>21/11/2024</td>\n",
              "      <td>22:1</td>\n",
              "      <td>2.8</td>\n",
              "      <td>49</td>\n",
              "      <td>General Hospital</td>\n",
              "      <td>Female</td>\n",
              "      <td>38</td>\n",
              "    </tr>\n",
              "    <tr>\n",
              "      <th>7</th>\n",
              "      <td>Eve</td>\n",
              "      <td>Jones</td>\n",
              "      <td>13/6/2024</td>\n",
              "      <td>11:48</td>\n",
              "      <td>3.8</td>\n",
              "      <td>45</td>\n",
              "      <td>General Hospital</td>\n",
              "      <td>Male</td>\n",
              "      <td>25</td>\n",
              "    </tr>\n",
              "    <tr>\n",
              "      <th>8</th>\n",
              "      <td>Alice</td>\n",
              "      <td>Brown</td>\n",
              "      <td>22/7/2024</td>\n",
              "      <td>23:13</td>\n",
              "      <td>3.8</td>\n",
              "      <td>50</td>\n",
              "      <td>County Hospital</td>\n",
              "      <td>Male</td>\n",
              "      <td>21</td>\n",
              "    </tr>\n",
              "    <tr>\n",
              "      <th>9</th>\n",
              "      <td>Alice</td>\n",
              "      <td>Williams</td>\n",
              "      <td>5/2/2024</td>\n",
              "      <td>0:16</td>\n",
              "      <td>2.9</td>\n",
              "      <td>48</td>\n",
              "      <td>General Hospital</td>\n",
              "      <td>Female</td>\n",
              "      <td>37</td>\n",
              "    </tr>\n",
              "  </tbody>\n",
              "</table>\n",
              "</div>\n",
              "    <div class=\"colab-df-buttons\">\n",
              "\n",
              "  <div class=\"colab-df-container\">\n",
              "    <button class=\"colab-df-convert\" onclick=\"convertToInteractive('df-5f1b90c1-7174-4640-9b7b-d6d6a3fec2db')\"\n",
              "            title=\"Convert this dataframe to an interactive table.\"\n",
              "            style=\"display:none;\">\n",
              "\n",
              "  <svg xmlns=\"http://www.w3.org/2000/svg\" height=\"24px\" viewBox=\"0 -960 960 960\">\n",
              "    <path d=\"M120-120v-720h720v720H120Zm60-500h600v-160H180v160Zm220 220h160v-160H400v160Zm0 220h160v-160H400v160ZM180-400h160v-160H180v160Zm440 0h160v-160H620v160ZM180-180h160v-160H180v160Zm440 0h160v-160H620v160Z\"/>\n",
              "  </svg>\n",
              "    </button>\n",
              "\n",
              "  <style>\n",
              "    .colab-df-container {\n",
              "      display:flex;\n",
              "      gap: 12px;\n",
              "    }\n",
              "\n",
              "    .colab-df-convert {\n",
              "      background-color: #E8F0FE;\n",
              "      border: none;\n",
              "      border-radius: 50%;\n",
              "      cursor: pointer;\n",
              "      display: none;\n",
              "      fill: #1967D2;\n",
              "      height: 32px;\n",
              "      padding: 0 0 0 0;\n",
              "      width: 32px;\n",
              "    }\n",
              "\n",
              "    .colab-df-convert:hover {\n",
              "      background-color: #E2EBFA;\n",
              "      box-shadow: 0px 1px 2px rgba(60, 64, 67, 0.3), 0px 1px 3px 1px rgba(60, 64, 67, 0.15);\n",
              "      fill: #174EA6;\n",
              "    }\n",
              "\n",
              "    .colab-df-buttons div {\n",
              "      margin-bottom: 4px;\n",
              "    }\n",
              "\n",
              "    [theme=dark] .colab-df-convert {\n",
              "      background-color: #3B4455;\n",
              "      fill: #D2E3FC;\n",
              "    }\n",
              "\n",
              "    [theme=dark] .colab-df-convert:hover {\n",
              "      background-color: #434B5C;\n",
              "      box-shadow: 0px 1px 3px 1px rgba(0, 0, 0, 0.15);\n",
              "      filter: drop-shadow(0px 1px 2px rgba(0, 0, 0, 0.3));\n",
              "      fill: #FFFFFF;\n",
              "    }\n",
              "  </style>\n",
              "\n",
              "    <script>\n",
              "      const buttonEl =\n",
              "        document.querySelector('#df-5f1b90c1-7174-4640-9b7b-d6d6a3fec2db button.colab-df-convert');\n",
              "      buttonEl.style.display =\n",
              "        google.colab.kernel.accessAllowed ? 'block' : 'none';\n",
              "\n",
              "      async function convertToInteractive(key) {\n",
              "        const element = document.querySelector('#df-5f1b90c1-7174-4640-9b7b-d6d6a3fec2db');\n",
              "        const dataTable =\n",
              "          await google.colab.kernel.invokeFunction('convertToInteractive',\n",
              "                                                    [key], {});\n",
              "        if (!dataTable) return;\n",
              "\n",
              "        const docLinkHtml = 'Like what you see? Visit the ' +\n",
              "          '<a target=\"_blank\" href=https://colab.research.google.com/notebooks/data_table.ipynb>data table notebook</a>'\n",
              "          + ' to learn more about interactive tables.';\n",
              "        element.innerHTML = '';\n",
              "        dataTable['output_type'] = 'display_data';\n",
              "        await google.colab.output.renderOutput(dataTable, element);\n",
              "        const docLink = document.createElement('div');\n",
              "        docLink.innerHTML = docLinkHtml;\n",
              "        element.appendChild(docLink);\n",
              "      }\n",
              "    </script>\n",
              "  </div>\n",
              "\n",
              "\n",
              "    <div id=\"df-22d1781d-d079-44d7-97d9-c78fcb87b4f7\">\n",
              "      <button class=\"colab-df-quickchart\" onclick=\"quickchart('df-22d1781d-d079-44d7-97d9-c78fcb87b4f7')\"\n",
              "                title=\"Suggest charts\"\n",
              "                style=\"display:none;\">\n",
              "\n",
              "<svg xmlns=\"http://www.w3.org/2000/svg\" height=\"24px\"viewBox=\"0 0 24 24\"\n",
              "     width=\"24px\">\n",
              "    <g>\n",
              "        <path d=\"M19 3H5c-1.1 0-2 .9-2 2v14c0 1.1.9 2 2 2h14c1.1 0 2-.9 2-2V5c0-1.1-.9-2-2-2zM9 17H7v-7h2v7zm4 0h-2V7h2v10zm4 0h-2v-4h2v4z\"/>\n",
              "    </g>\n",
              "</svg>\n",
              "      </button>\n",
              "\n",
              "<style>\n",
              "  .colab-df-quickchart {\n",
              "      --bg-color: #E8F0FE;\n",
              "      --fill-color: #1967D2;\n",
              "      --hover-bg-color: #E2EBFA;\n",
              "      --hover-fill-color: #174EA6;\n",
              "      --disabled-fill-color: #AAA;\n",
              "      --disabled-bg-color: #DDD;\n",
              "  }\n",
              "\n",
              "  [theme=dark] .colab-df-quickchart {\n",
              "      --bg-color: #3B4455;\n",
              "      --fill-color: #D2E3FC;\n",
              "      --hover-bg-color: #434B5C;\n",
              "      --hover-fill-color: #FFFFFF;\n",
              "      --disabled-bg-color: #3B4455;\n",
              "      --disabled-fill-color: #666;\n",
              "  }\n",
              "\n",
              "  .colab-df-quickchart {\n",
              "    background-color: var(--bg-color);\n",
              "    border: none;\n",
              "    border-radius: 50%;\n",
              "    cursor: pointer;\n",
              "    display: none;\n",
              "    fill: var(--fill-color);\n",
              "    height: 32px;\n",
              "    padding: 0;\n",
              "    width: 32px;\n",
              "  }\n",
              "\n",
              "  .colab-df-quickchart:hover {\n",
              "    background-color: var(--hover-bg-color);\n",
              "    box-shadow: 0 1px 2px rgba(60, 64, 67, 0.3), 0 1px 3px 1px rgba(60, 64, 67, 0.15);\n",
              "    fill: var(--button-hover-fill-color);\n",
              "  }\n",
              "\n",
              "  .colab-df-quickchart-complete:disabled,\n",
              "  .colab-df-quickchart-complete:disabled:hover {\n",
              "    background-color: var(--disabled-bg-color);\n",
              "    fill: var(--disabled-fill-color);\n",
              "    box-shadow: none;\n",
              "  }\n",
              "\n",
              "  .colab-df-spinner {\n",
              "    border: 2px solid var(--fill-color);\n",
              "    border-color: transparent;\n",
              "    border-bottom-color: var(--fill-color);\n",
              "    animation:\n",
              "      spin 1s steps(1) infinite;\n",
              "  }\n",
              "\n",
              "  @keyframes spin {\n",
              "    0% {\n",
              "      border-color: transparent;\n",
              "      border-bottom-color: var(--fill-color);\n",
              "      border-left-color: var(--fill-color);\n",
              "    }\n",
              "    20% {\n",
              "      border-color: transparent;\n",
              "      border-left-color: var(--fill-color);\n",
              "      border-top-color: var(--fill-color);\n",
              "    }\n",
              "    30% {\n",
              "      border-color: transparent;\n",
              "      border-left-color: var(--fill-color);\n",
              "      border-top-color: var(--fill-color);\n",
              "      border-right-color: var(--fill-color);\n",
              "    }\n",
              "    40% {\n",
              "      border-color: transparent;\n",
              "      border-right-color: var(--fill-color);\n",
              "      border-top-color: var(--fill-color);\n",
              "    }\n",
              "    60% {\n",
              "      border-color: transparent;\n",
              "      border-right-color: var(--fill-color);\n",
              "    }\n",
              "    80% {\n",
              "      border-color: transparent;\n",
              "      border-right-color: var(--fill-color);\n",
              "      border-bottom-color: var(--fill-color);\n",
              "    }\n",
              "    90% {\n",
              "      border-color: transparent;\n",
              "      border-bottom-color: var(--fill-color);\n",
              "    }\n",
              "  }\n",
              "</style>\n",
              "\n",
              "      <script>\n",
              "        async function quickchart(key) {\n",
              "          const quickchartButtonEl =\n",
              "            document.querySelector('#' + key + ' button');\n",
              "          quickchartButtonEl.disabled = true;  // To prevent multiple clicks.\n",
              "          quickchartButtonEl.classList.add('colab-df-spinner');\n",
              "          try {\n",
              "            const charts = await google.colab.kernel.invokeFunction(\n",
              "                'suggestCharts', [key], {});\n",
              "          } catch (error) {\n",
              "            console.error('Error during call to suggestCharts:', error);\n",
              "          }\n",
              "          quickchartButtonEl.classList.remove('colab-df-spinner');\n",
              "          quickchartButtonEl.classList.add('colab-df-quickchart-complete');\n",
              "        }\n",
              "        (() => {\n",
              "          let quickchartButtonEl =\n",
              "            document.querySelector('#df-22d1781d-d079-44d7-97d9-c78fcb87b4f7 button');\n",
              "          quickchartButtonEl.style.display =\n",
              "            google.colab.kernel.accessAllowed ? 'block' : 'none';\n",
              "        })();\n",
              "      </script>\n",
              "    </div>\n",
              "\n",
              "  <div id=\"id_8f418991-4874-4ff1-a268-b86235228e6b\">\n",
              "    <style>\n",
              "      .colab-df-generate {\n",
              "        background-color: #E8F0FE;\n",
              "        border: none;\n",
              "        border-radius: 50%;\n",
              "        cursor: pointer;\n",
              "        display: none;\n",
              "        fill: #1967D2;\n",
              "        height: 32px;\n",
              "        padding: 0 0 0 0;\n",
              "        width: 32px;\n",
              "      }\n",
              "\n",
              "      .colab-df-generate:hover {\n",
              "        background-color: #E2EBFA;\n",
              "        box-shadow: 0px 1px 2px rgba(60, 64, 67, 0.3), 0px 1px 3px 1px rgba(60, 64, 67, 0.15);\n",
              "        fill: #174EA6;\n",
              "      }\n",
              "\n",
              "      [theme=dark] .colab-df-generate {\n",
              "        background-color: #3B4455;\n",
              "        fill: #D2E3FC;\n",
              "      }\n",
              "\n",
              "      [theme=dark] .colab-df-generate:hover {\n",
              "        background-color: #434B5C;\n",
              "        box-shadow: 0px 1px 3px 1px rgba(0, 0, 0, 0.15);\n",
              "        filter: drop-shadow(0px 1px 2px rgba(0, 0, 0, 0.3));\n",
              "        fill: #FFFFFF;\n",
              "      }\n",
              "    </style>\n",
              "    <button class=\"colab-df-generate\" onclick=\"generateWithVariable('df')\"\n",
              "            title=\"Generate code using this dataframe.\"\n",
              "            style=\"display:none;\">\n",
              "\n",
              "  <svg xmlns=\"http://www.w3.org/2000/svg\" height=\"24px\"viewBox=\"0 0 24 24\"\n",
              "       width=\"24px\">\n",
              "    <path d=\"M7,19H8.4L18.45,9,17,7.55,7,17.6ZM5,21V16.75L18.45,3.32a2,2,0,0,1,2.83,0l1.4,1.43a1.91,1.91,0,0,1,.58,1.4,1.91,1.91,0,0,1-.58,1.4L9.25,21ZM18.45,9,17,7.55Zm-12,3A5.31,5.31,0,0,0,4.9,8.1,5.31,5.31,0,0,0,1,6.5,5.31,5.31,0,0,0,4.9,4.9,5.31,5.31,0,0,0,6.5,1,5.31,5.31,0,0,0,8.1,4.9,5.31,5.31,0,0,0,12,6.5,5.46,5.46,0,0,0,6.5,12Z\"/>\n",
              "  </svg>\n",
              "    </button>\n",
              "    <script>\n",
              "      (() => {\n",
              "      const buttonEl =\n",
              "        document.querySelector('#id_8f418991-4874-4ff1-a268-b86235228e6b button.colab-df-generate');\n",
              "      buttonEl.style.display =\n",
              "        google.colab.kernel.accessAllowed ? 'block' : 'none';\n",
              "\n",
              "      buttonEl.onclick = () => {\n",
              "        google.colab.notebook.generateWithVariable('df');\n",
              "      }\n",
              "      })();\n",
              "    </script>\n",
              "  </div>\n",
              "\n",
              "    </div>\n",
              "  </div>\n"
            ],
            "text/plain": [
              "  First Name Last Name  Birth Date Birth Time  Birth Weight (kg)  \\\n",
              "0    Charlie     Brown   22/2/2024      12:54                3.3   \n",
              "1        Eve     Davis   25/2/2024      12:18                3.2   \n",
              "2        Eve     Smith   27/5/2024        9:9                3.5   \n",
              "3      Alice     Brown   18/9/2024      19:57                3.5   \n",
              "4    Charlie     Smith    2/7/2024       1:31                3.0   \n",
              "5      Alice     Jones  25/12/2024      21:30                2.8   \n",
              "6    Charlie     Smith  21/11/2024       22:1                2.8   \n",
              "7        Eve     Jones   13/6/2024      11:48                3.8   \n",
              "8      Alice     Brown   22/7/2024      23:13                3.8   \n",
              "9      Alice  Williams    5/2/2024       0:16                2.9   \n",
              "\n",
              "   Birth Length (cm)          Hospital  Gender  Mother's Age  \n",
              "0                 47   County Hospital  Female            45  \n",
              "1                 50   County Hospital    Male            20  \n",
              "2                 54  General Hospital  Female            18  \n",
              "3                 52     City Hospital  Female            45  \n",
              "4                 52   County Hospital  Female            36  \n",
              "5                 52   County Hospital  Female            30  \n",
              "6                 49  General Hospital  Female            38  \n",
              "7                 45  General Hospital    Male            25  \n",
              "8                 50   County Hospital    Male            21  \n",
              "9                 48  General Hospital  Female            37  "
            ]
          },
          "execution_count": 18,
          "metadata": {},
          "output_type": "execute_result"
        }
      ],
      "source": [
        "import pandas as pd\n",
        "import random\n",
        "\n",
        "def generate_newborn_data(num_newborns):\n",
        "    newborn_data = []  # Initialize newborn_data here\n",
        "    for _ in range(num_newborns):\n",
        "        newborn = {\n",
        "            'First Name': random.choice(['Alice', 'Bob', 'Charlie', 'Dave', 'Eve']),\n",
        "            'Last Name': random.choice(['Smith', 'Jones', 'Williams', 'Brown', 'Davis']),\n",
        "            'Birth Date': f\"{random.randint(1, 28)}/{random.randint(1, 12)}/2024\",  # Placeholder date\n",
        "            'Birth Time': f\"{random.randint(0, 23)}:{random.randint(0, 59)}\",  # Placeholder time\n",
        "            'Birth Weight (kg)': round(random.uniform(2.5, 4.0), 1),\n",
        "            'Birth Length (cm)': random.randint(45, 55),\n",
        "            'Hospital': random.choice(['City Hospital', 'County Hospital', 'General Hospital']),\n",
        "            'Gender': random.choice(['Male', 'Female']),\n",
        "            'Mother\\'s Age': random.randint(18, 45)\n",
        "        }\n",
        "        newborn_data.append(newborn)\n",
        "    return newborn_data  # Correct indentation\n",
        "\n",
        "# Generate data for 10 newborns\n",
        "newborns = generate_newborn_data(10)\n",
        "\n",
        "# Create a Pandas DataFrame\n",
        "df = pd.DataFrame(newborns)\n",
        "df"
      ]
    },
    {
      "cell_type": "code",
      "execution_count": null,
      "metadata": {
        "colab": {
          "base_uri": "https://localhost:8080/",
          "height": 366
        },
        "id": "YL4w0oon8IOg",
        "outputId": "fce69487-eead-4aa3-e06e-36612cf1f159"
      },
      "outputs": [
        {
          "data": {
            "text/html": [
              "<div>\n",
              "<style scoped>\n",
              "    .dataframe tbody tr th:only-of-type {\n",
              "        vertical-align: middle;\n",
              "    }\n",
              "\n",
              "    .dataframe tbody tr th {\n",
              "        vertical-align: top;\n",
              "    }\n",
              "\n",
              "    .dataframe thead th {\n",
              "        text-align: right;\n",
              "    }\n",
              "</style>\n",
              "<table border=\"1\" class=\"dataframe\">\n",
              "  <thead>\n",
              "    <tr style=\"text-align: right;\">\n",
              "      <th></th>\n",
              "      <th>0</th>\n",
              "    </tr>\n",
              "  </thead>\n",
              "  <tbody>\n",
              "    <tr>\n",
              "      <th>First Name</th>\n",
              "      <td>object</td>\n",
              "    </tr>\n",
              "    <tr>\n",
              "      <th>Last Name</th>\n",
              "      <td>object</td>\n",
              "    </tr>\n",
              "    <tr>\n",
              "      <th>Birth Date</th>\n",
              "      <td>object</td>\n",
              "    </tr>\n",
              "    <tr>\n",
              "      <th>Birth Time</th>\n",
              "      <td>object</td>\n",
              "    </tr>\n",
              "    <tr>\n",
              "      <th>Birth Weight (kg)</th>\n",
              "      <td>float64</td>\n",
              "    </tr>\n",
              "    <tr>\n",
              "      <th>Birth Length (cm)</th>\n",
              "      <td>int64</td>\n",
              "    </tr>\n",
              "    <tr>\n",
              "      <th>Hospital</th>\n",
              "      <td>object</td>\n",
              "    </tr>\n",
              "    <tr>\n",
              "      <th>Gender</th>\n",
              "      <td>object</td>\n",
              "    </tr>\n",
              "    <tr>\n",
              "      <th>Mother's Age</th>\n",
              "      <td>int64</td>\n",
              "    </tr>\n",
              "  </tbody>\n",
              "</table>\n",
              "</div><br><label><b>dtype:</b> object</label>"
            ],
            "text/plain": [
              "First Name            object\n",
              "Last Name             object\n",
              "Birth Date            object\n",
              "Birth Time            object\n",
              "Birth Weight (kg)    float64\n",
              "Birth Length (cm)      int64\n",
              "Hospital              object\n",
              "Gender                object\n",
              "Mother's Age           int64\n",
              "dtype: object"
            ]
          },
          "execution_count": 19,
          "metadata": {},
          "output_type": "execute_result"
        }
      ],
      "source": [
        "df.dtypes"
      ]
    },
    {
      "cell_type": "markdown",
      "metadata": {
        "id": "sB0OVP6s_0e2"
      },
      "source": [
        "x = 3\n",
        "\n",
        "while x>0:\n",
        "\n",
        "  print(x)\n",
        "\n",
        "  x = x+1\n",
        "\n",
        "print(\"go!\")"
      ]
    },
    {
      "cell_type": "code",
      "source": [],
      "metadata": {
        "id": "Uz6Til94DEtT"
      },
      "execution_count": null,
      "outputs": []
    }
  ],
  "metadata": {
    "colab": {
      "provenance": [],
      "authorship_tag": "ABX9TyNUGOtM7ANS62ye44kUX4BZ",
      "include_colab_link": true
    },
    "kernelspec": {
      "display_name": "Python 3",
      "name": "python3"
    },
    "language_info": {
      "name": "python"
    }
  },
  "nbformat": 4,
  "nbformat_minor": 0
}